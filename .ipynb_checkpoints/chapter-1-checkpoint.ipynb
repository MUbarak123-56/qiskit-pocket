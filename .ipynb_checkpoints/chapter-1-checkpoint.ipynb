{
 "cells": [
  {
   "cell_type": "code",
   "execution_count": 1,
   "id": "50bfec26",
   "metadata": {},
   "outputs": [],
   "source": [
    "from qiskit import Aer, execute, transpile, IBMQ, QuantumRegister, ClassicalRegister, QuantumCircuit\n",
    "from qiskit.visualization import *\n",
    "import numpy as np"
   ]
  },
  {
   "cell_type": "markdown",
   "id": "0860bbfb",
   "metadata": {},
   "source": [
    "#### Extracting info from a quantum circuit"
   ]
  },
  {
   "cell_type": "code",
   "execution_count": 13,
   "id": "4658409d",
   "metadata": {},
   "outputs": [
    {
     "data": {
      "image/png": "[encoded data removed]",
      "text/plain": [
       "<Figure size 387.452x204.68 with 1 Axes>"
      ]
     },
     "execution_count": 13,
     "metadata": {},
     "output_type": "execute_result"
    }
   ],
   "source": [
    "qc = QuantumCircuit(2,2)\n",
    "qc.h(0)\n",
    "qc.z(0)\n",
    "qc.h(0)\n",
    "qc.z(0)\n",
    "new_qc = QuantumCircuit(2,2)\n",
    "new_qc.cx(0,1)\n",
    "total = qc.compose(new_qc)\n",
    "total.draw(\"mpl\")"
   ]
  },
  {
   "cell_type": "code",
   "execution_count": 14,
   "id": "f534a48e",
   "metadata": {},
   "outputs": [
    {
     "data": {
      "text/plain": [
       "5"
      ]
     },
     "execution_count": 14,
     "metadata": {},
     "output_type": "execute_result"
    }
   ],
   "source": [
    "total.depth()"
   ]
  },
  {
   "cell_type": "code",
   "execution_count": 15,
   "id": "402fc2cc",
   "metadata": {},
   "outputs": [
    {
     "data": {
      "text/plain": [
       "4"
      ]
     },
     "execution_count": 15,
     "metadata": {},
     "output_type": "execute_result"
    }
   ],
   "source": [
    "total.width()"
   ]
  },
  {
   "cell_type": "code",
   "execution_count": 16,
   "id": "21c75088",
   "metadata": {},
   "outputs": [
    {
     "data": {
      "text/plain": [
       "5"
      ]
     },
     "execution_count": 16,
     "metadata": {},
     "output_type": "execute_result"
    }
   ],
   "source": [
    "total.size()"
   ]
  },
  {
   "cell_type": "code",
   "execution_count": 17,
   "id": "6f5123e2",
   "metadata": {},
   "outputs": [
    {
     "data": {
      "text/plain": [
       "OrderedDict([('h', 2), ('z', 2), ('cx', 1)])"
      ]
     },
     "execution_count": 17,
     "metadata": {},
     "output_type": "execute_result"
    }
   ],
   "source": [
    "total.count_ops()"
   ]
  },
  {
   "cell_type": "code",
   "execution_count": 18,
   "id": "08ad366e",
   "metadata": {},
   "outputs": [
    {
     "data": {
      "text/plain": [
       "[Clbit(ClassicalRegister(2, 'c'), 0), Clbit(ClassicalRegister(2, 'c'), 1)]"
      ]
     },
     "execution_count": 18,
     "metadata": {},
     "output_type": "execute_result"
    }
   ],
   "source": [
    "total.clbits"
   ]
  },
  {
   "cell_type": "code",
   "execution_count": 19,
   "id": "beef607e",
   "metadata": {},
   "outputs": [
    {
     "data": {
      "text/plain": [
       "[(Instruction(name='h', num_qubits=1, num_clbits=0, params=[]), [Qubit(QuantumRegister(2, 'q'), 0)], []), (Instruction(name='z', num_qubits=1, num_clbits=0, params=[]), [Qubit(QuantumRegister(2, 'q'), 0)], []), (Instruction(name='h', num_qubits=1, num_clbits=0, params=[]), [Qubit(QuantumRegister(2, 'q'), 0)], []), (Instruction(name='z', num_qubits=1, num_clbits=0, params=[]), [Qubit(QuantumRegister(2, 'q'), 0)], []), (Instruction(name='cx', num_qubits=2, num_clbits=0, params=[]), [Qubit(QuantumRegister(2, 'q'), 0), Qubit(QuantumRegister(2, 'q'), 1)], [])]"
      ]
     },
     "execution_count": 19,
     "metadata": {},
     "output_type": "execute_result"
    }
   ],
   "source": [
    "total.data"
   ]
  },
  {
   "cell_type": "code",
   "execution_count": 20,
   "id": "67e83f73",
   "metadata": {},
   "outputs": [
    {
     "data": {
      "text/plain": [
       "2"
      ]
     },
     "execution_count": 20,
     "metadata": {},
     "output_type": "execute_result"
    }
   ],
   "source": [
    "total.num_qubits"
   ]
  },
  {
   "cell_type": "code",
   "execution_count": 21,
   "id": "c46d757a",
   "metadata": {},
   "outputs": [
    {
     "data": {
      "text/plain": [
       "2"
      ]
     },
     "execution_count": 21,
     "metadata": {},
     "output_type": "execute_result"
    }
   ],
   "source": [
    "total.num_clbits"
   ]
  },
  {
   "cell_type": "code",
   "execution_count": 22,
   "id": "21046968",
   "metadata": {},
   "outputs": [
    {
     "data": {
      "text/plain": [
       "0"
      ]
     },
     "execution_count": 22,
     "metadata": {},
     "output_type": "execute_result"
    }
   ],
   "source": [
    "total.global_phase"
   ]
  },
  {
   "cell_type": "markdown",
   "id": "a744cd8f",
   "metadata": {},
   "source": [
    "#### Using the append() instruction"
   ]
  },
  {
   "cell_type": "code",
   "execution_count": 24,
   "id": "fc5c825b",
   "metadata": {},
   "outputs": [
    {
     "data": {
      "image/png": "[encoded data removed]",
      "text/plain": [
       "<Figure size 206.852x144.48 with 1 Axes>"
      ]
     },
     "execution_count": 24,
     "metadata": {},
     "output_type": "execute_result"
    }
   ],
   "source": [
    "from qiskit.circuit.library import CXGate\n",
    "\n",
    "qc = QuantumCircuit(2)\n",
    "qc.h(1)\n",
    "cx_gate = CXGate()\n",
    "qc.append(cx_gate, [1,0])\n",
    "qc.draw(\"mpl\")"
   ]
  },
  {
   "cell_type": "markdown",
   "id": "698de0e8",
   "metadata": {},
   "source": [
    "#### Using the bind parameters method"
   ]
  },
  {
   "cell_type": "code",
   "execution_count": 25,
   "id": "5eea25eb",
   "metadata": {},
   "outputs": [
    {
     "data": {
      "image/png": "[encoded data removed]",
      "text/plain": [
       "<Figure size 206.997x204.68 with 1 Axes>"
      ]
     },
     "execution_count": 25,
     "metadata": {},
     "output_type": "execute_result"
    }
   ],
   "source": [
    "from qiskit.circuit import QuantumCircuit,\\\n",
    "                           Parameter\n",
    "\n",
    "theta1 = Parameter('θ1')\n",
    "theta2 = Parameter('θ2')\n",
    "theta3 = Parameter('θ3')\n",
    "\n",
    "qc = QuantumCircuit(3)\n",
    "qc.h([0,1,2])\n",
    "qc.p(theta1,0)\n",
    "qc.p(theta2,1)\n",
    "qc.p(theta3,2)\n",
    "\n",
    "qc.draw(\"mpl\")"
   ]
  },
  {
   "cell_type": "code",
   "execution_count": 27,
   "id": "89cb4672",
   "metadata": {},
   "outputs": [
    {
     "data": {
      "image/png": "[encoded data removed]",
      "text/plain": [
       "<Figure size 206.997x204.68 with 1 Axes>"
      ]
     },
     "execution_count": 27,
     "metadata": {},
     "output_type": "execute_result"
    }
   ],
   "source": [
    "import math\n",
    "b_qc = qc.bind_parameters({theta1: math.pi/8,\n",
    "                          theta2: math.pi/4,\n",
    "                          theta3: math.pi/2})\n",
    "\n",
    "b_qc.draw(\"mpl\")"
   ]
  },
  {
   "cell_type": "markdown",
   "id": "119eb167",
   "metadata": {},
   "source": [
    "#### Using the copy() method"
   ]
  },
  {
   "cell_type": "code",
   "execution_count": 28,
   "id": "b3f2648e",
   "metadata": {},
   "outputs": [],
   "source": [
    "qc = QuantumCircuit(3)\n",
    "qc.h([0,1,2])\n",
    "new_qc = qc.copy()"
   ]
  },
  {
   "cell_type": "markdown",
   "id": "6de9a2c7",
   "metadata": {},
   "source": [
    "#### Using the decompose() method"
   ]
  },
  {
   "cell_type": "code",
   "execution_count": 30,
   "id": "36f019cf",
   "metadata": {},
   "outputs": [
    {
     "data": {
      "image/png": "[encoded data removed]",
      "text/plain": [
       "<Figure size 206.852x144.48 with 1 Axes>"
      ]
     },
     "execution_count": 30,
     "metadata": {},
     "output_type": "execute_result"
    }
   ],
   "source": [
    "qc = QuantumCircuit(2)\n",
    "qc.h(0)\n",
    "qc.s(0)\n",
    "qc.x(1)\n",
    "decomposed_qc = qc.decompose()\n",
    "decomposed_qc.draw(\"mpl\")"
   ]
  },
  {
   "cell_type": "markdown",
   "id": "86661cee",
   "metadata": {},
   "source": [
    "#### Using the from_qasm_file() method"
   ]
  },
  {
   "cell_type": "code",
   "execution_count": 31,
   "id": "a4551164",
   "metadata": {},
   "outputs": [
    {
     "name": "stdout",
     "output_type": "stream",
     "text": [
      "\u001b[92mOPENQASM\u001b[39m \u001b[96m2\u001b[39m.\u001b[96m0\u001b[39m;\n",
      "\u001b[92minclude\u001b[39m\u001b[91m \"qelib1.inc\"\u001b[39m;\n",
      "\u001b[92mqreg\u001b[39m q[\u001b[96m2\u001b[39m];\n",
      "\u001b[95mh\u001b[39m q[\u001b[96m0\u001b[39m];\n",
      "\u001b[95ms\u001b[39m q[\u001b[96m0\u001b[39m];\n",
      "\u001b[95mx\u001b[39m q[\u001b[96m1\u001b[39m];\n",
      "\n"
     ]
    },
    {
     "data": {
      "image/png": "[encoded data removed]",
      "text/plain": [
       "<Figure size 206.852x144.48 with 1 Axes>"
      ]
     },
     "execution_count": 31,
     "metadata": {},
     "output_type": "execute_result"
    }
   ],
   "source": [
    "qc.qasm(formatted = True, filename = \"file.qasm\")\n",
    "read_qc = QuantumCircuit.from_qasm_file(\"file.qasm\")\n",
    "read_qc.draw(\"mpl\")"
   ]
  },
  {
   "cell_type": "markdown",
   "id": "9bb6dd6b",
   "metadata": {},
   "source": [
    "#### Using the from_qasm_str() method"
   ]
  },
  {
   "cell_type": "code",
   "execution_count": 32,
   "id": "c6dfee02",
   "metadata": {},
   "outputs": [
    {
     "data": {
      "image/png": "[encoded data removed]",
      "text/plain": [
       "<Figure size 327.252x204.68 with 1 Axes>"
      ]
     },
     "execution_count": 32,
     "metadata": {},
     "output_type": "execute_result"
    }
   ],
   "source": [
    "qasm_str = \"\"\"\n",
    "OPENQASM 2.0;\n",
    "include \"qelib1.inc\";\n",
    "qreg q[2];\n",
    "creg c[2];\n",
    "h q[0];\n",
    "cx q[0],q[1];\n",
    "measure q[0] -> c[0];\n",
    "measure q[1] -> c[1];\n",
    "\"\"\"\n",
    "new_qc = QuantumCircuit.from_qasm_str(qasm_str)\n",
    "new_qc.draw(\"mpl\")"
   ]
  },
  {
   "cell_type": "markdown",
   "id": "d8a21e5a",
   "metadata": {},
   "source": [
    "#### Using the initialize() method"
   ]
  },
  {
   "cell_type": "code",
   "execution_count": 34,
   "id": "d74e07bf",
   "metadata": {},
   "outputs": [
    {
     "data": {
      "image/png": "[encoded data removed]",
      "text/plain": [
       "<Figure size 206.852x144.48 with 1 Axes>"
      ]
     },
     "execution_count": 34,
     "metadata": {},
     "output_type": "execute_result"
    }
   ],
   "source": [
    "qc = QuantumCircuit(2)\n",
    "qc.initialize([0, 0, 0, 1]) # initializes the statevector of the qubit(s)\n",
    "qc.draw(\"mpl\")"
   ]
  },
  {
   "cell_type": "markdown",
   "id": "f7ba734c",
   "metadata": {},
   "source": [
    "#### Using the reset() method"
   ]
  },
  {
   "cell_type": "code",
   "execution_count": 35,
   "id": "cfcb8095",
   "metadata": {},
   "outputs": [
    {
     "data": {
      "image/png": "[encoded data removed]",
      "text/plain": [
       "<Figure size 193.726x84.28 with 1 Axes>"
      ]
     },
     "execution_count": 35,
     "metadata": {},
     "output_type": "execute_result"
    }
   ],
   "source": [
    "qc = QuantumCircuit(1)\n",
    "qc.x(0)\n",
    "qc.reset(0) # resets the state of the qubit to |0>\n",
    "qc.draw(\"mpl\")"
   ]
  },
  {
   "cell_type": "markdown",
   "id": "4e8bd585",
   "metadata": {},
   "source": [
    "#### Using the qasm() method"
   ]
  },
  {
   "cell_type": "code",
   "execution_count": 36,
   "id": "c7a2bca2",
   "metadata": {},
   "outputs": [
    {
     "name": "stdout",
     "output_type": "stream",
     "text": [
      "OPENQASM 2.0;\n",
      "include \"qelib1.inc\";\n",
      "qreg q[2];\n",
      "creg c[2];\n",
      "h q[0];\n",
      "cx q[0],q[1];\n",
      "\n"
     ]
    }
   ],
   "source": [
    "qc = QuantumCircuit(2, 2)\n",
    "qc.h(0)\n",
    "qc.cx(0, 1)\n",
    "qasm_str = qc.qasm()\n",
    "print(qasm_str)"
   ]
  },
  {
   "cell_type": "markdown",
   "id": "e0ab54b9",
   "metadata": {},
   "source": [
    "#### Using the to_gate() method"
   ]
  },
  {
   "cell_type": "code",
   "execution_count": 37,
   "id": "db65451f",
   "metadata": {},
   "outputs": [
    {
     "data": {
      "image/png": "[encoded data removed]",
      "text/plain": [
       "<Figure size 267.052x144.48 with 1 Axes>"
      ]
     },
     "execution_count": 37,
     "metadata": {},
     "output_type": "execute_result"
    }
   ],
   "source": [
    "anti_cnot_qc = QuantumCircuit(2)\n",
    "anti_cnot_qc.x(0)\n",
    "anti_cnot_qc.cx(0,1)\n",
    "anti_cnot_qc.x(0)\n",
    "\n",
    "anti_cnot_qc.draw(\"mpl\")"
   ]
  },
  {
   "cell_type": "code",
   "execution_count": 42,
   "id": "278442e3",
   "metadata": {},
   "outputs": [
    {
     "data": {
      "image/png": "[encoded data removed]",
      "text/plain": [
       "<Figure size 267.052x144.48 with 1 Axes>"
      ]
     },
     "execution_count": 42,
     "metadata": {},
     "output_type": "execute_result"
    }
   ],
   "source": [
    "anti_cnot_gate = anti_cnot_qc.to_gate()\n",
    "qc = QuantumCircuit(2)\n",
    "qc.h(0)\n",
    "qc.append(anti_cnot_gate, [0,1])\n",
    "qc.draw(\"mpl\")"
   ]
  },
  {
   "cell_type": "code",
   "execution_count": 43,
   "id": "688c0787",
   "metadata": {},
   "outputs": [
    {
     "data": {
      "image/png": "[encoded data removed]",
      "text/plain": [
       "<Figure size 504x360 with 1 Axes>"
      ]
     },
     "execution_count": 43,
     "metadata": {},
     "output_type": "execute_result"
    }
   ],
   "source": [
    "qc.measure_all()\n",
    "result = execute(qc, Aer.get_backend(\"qasm_simulator\"), shots = 1000).result().get_counts()\n",
    "plot_histogram(result)"
   ]
  },
  {
   "cell_type": "code",
   "execution_count": 44,
   "id": "0f8528d8",
   "metadata": {},
   "outputs": [
    {
     "data": {
      "image/png": "[encoded data removed]",
      "text/plain": [
       "<Figure size 327.397x204.68 with 1 Axes>"
      ]
     },
     "execution_count": 44,
     "metadata": {},
     "output_type": "execute_result"
    }
   ],
   "source": [
    "qc = QuantumCircuit(3)\n",
    "qc.x([0,1,2])\n",
    "qc.append(anti_cnot_gate, [0,2])\n",
    "\n",
    "qc.decompose().draw(\"mpl\")"
   ]
  },
  {
   "cell_type": "markdown",
   "id": "e67982d3",
   "metadata": {},
   "source": [
    "#### Using the to_instruction() method"
   ]
  },
  {
   "cell_type": "code",
   "execution_count": 45,
   "id": "7f959f46",
   "metadata": {},
   "outputs": [
    {
     "data": {
      "image/png": "[encoded data removed]",
      "text/plain": [
       "<Figure size 193.726x84.28 with 1 Axes>"
      ]
     },
     "execution_count": 45,
     "metadata": {},
     "output_type": "execute_result"
    }
   ],
   "source": [
    "reset_one_qc = QuantumCircuit(1)\n",
    "reset_one_qc.reset(0)\n",
    "reset_one_qc.x(0)\n",
    "\n",
    "reset_one_qc.draw(\"mpl\")"
   ]
  },
  {
   "cell_type": "code",
   "execution_count": 47,
   "id": "26922eb1",
   "metadata": {},
   "outputs": [
    {
     "data": {
      "image/png": "[encoded data removed]",
      "text/plain": [
       "<Figure size 267.052x144.48 with 1 Axes>"
      ]
     },
     "execution_count": 47,
     "metadata": {},
     "output_type": "execute_result"
    }
   ],
   "source": [
    "reset_one_inst = reset_one_qc.to_instruction()\n",
    "\n",
    "qc = QuantumCircuit(2)\n",
    "qc.h([0,1])\n",
    "qc.reset(0)\n",
    "qc.append(reset_one_inst, [1])\n",
    "\n",
    "qc.decompose().draw(\"mpl\")"
   ]
  },
  {
   "cell_type": "markdown",
   "id": "872905ee",
   "metadata": {},
   "source": [
    "#### Saving state"
   ]
  },
  {
   "cell_type": "code",
   "execution_count": 53,
   "id": "440d5872",
   "metadata": {},
   "outputs": [
    {
     "data": {
      "text/latex": [
       "$$\n",
       "\n",
       "\\begin{bmatrix}\n",
       "0 & \\tfrac{1}{\\sqrt{2}} & \\tfrac{1}{\\sqrt{2}} & 0  \\\\\n",
       " \\end{bmatrix}\n",
       "$$"
      ],
      "text/plain": [
       "<IPython.core.display.Latex object>"
      ]
     },
     "execution_count": 53,
     "metadata": {},
     "output_type": "execute_result"
    }
   ],
   "source": [
    "anti_cnot_qc = QuantumCircuit(2)\n",
    "anti_cnot_qc.x(0)\n",
    "anti_cnot_qc.cx(0,1)\n",
    "anti_cnot_qc.x(0)\n",
    "anti_cnot_gate = anti_cnot_qc.to_gate()\n",
    "qc = QuantumCircuit(2)\n",
    "qc.h(0)\n",
    "qc.append(anti_cnot_gate, [0,1])\n",
    "qc.save_state()\n",
    "backend = Aer.get_backend(\"aer_simulator\")\n",
    "qc.measure_all()\n",
    "sv = execute(qc, backend).result().get_statevector()\n",
    "counts = execute(qc, backend).result().get_counts()\n",
    "array_to_latex(result)"
   ]
  },
  {
   "cell_type": "code",
   "execution_count": 54,
   "id": "9bd799b3",
   "metadata": {},
   "outputs": [
    {
     "data": {
      "image/png": "[encoded data removed]",
      "text/plain": [
       "<Figure size 504x360 with 1 Axes>"
      ]
     },
     "execution_count": 54,
     "metadata": {},
     "output_type": "execute_result"
    }
   ],
   "source": [
    "plot_histogram(counts)"
   ]
  },
  {
   "cell_type": "markdown",
   "id": "f4723e2d",
   "metadata": {},
   "source": [
    "#### Using the QuantumRegister Class"
   ]
  },
  {
   "cell_type": "code",
   "execution_count": 55,
   "id": "17bc5a68",
   "metadata": {},
   "outputs": [
    {
     "data": {
      "image/png": "[encoded data removed]",
      "text/plain": [
       "<Figure size 678.298x325.08 with 1 Axes>"
      ]
     },
     "execution_count": 55,
     "metadata": {},
     "output_type": "execute_result"
    }
   ],
   "source": [
    "from qiskit import QuantumRegister, \\\n",
    "                   ClassicalRegister\n",
    "\n",
    "qr = QuantumRegister(3, 'q')\n",
    "scratch = QuantumRegister(1, 'scratch')\n",
    "cr = ClassicalRegister(3, 'c')\n",
    "qc = QuantumCircuit(qr, scratch, cr)\n",
    "\n",
    "qc.h(qr)\n",
    "qc.x(scratch)\n",
    "qc.h(scratch)\n",
    "qc.cx(qr[0], scratch)\n",
    "qc.cx(qr[2], scratch)\n",
    "qc.barrier(qr)\n",
    "qc.h(qr)\n",
    "qc.measure(qr, cr)\n",
    "\n",
    "qc.draw(\"mpl\")"
   ]
  },
  {
   "cell_type": "code",
   "execution_count": 56,
   "id": "6ca7fbf1",
   "metadata": {},
   "outputs": [
    {
     "data": {
      "text/plain": [
       "'q'"
      ]
     },
     "execution_count": 56,
     "metadata": {},
     "output_type": "execute_result"
    }
   ],
   "source": [
    "qr.name"
   ]
  },
  {
   "cell_type": "code",
   "execution_count": 57,
   "id": "e334f2f7",
   "metadata": {},
   "outputs": [
    {
     "data": {
      "text/plain": [
       "3"
      ]
     },
     "execution_count": 57,
     "metadata": {},
     "output_type": "execute_result"
    }
   ],
   "source": [
    "qr.size"
   ]
  },
  {
   "cell_type": "code",
   "execution_count": 58,
   "id": "96659849",
   "metadata": {},
   "outputs": [
    {
     "data": {
      "text/plain": [
       "'c'"
      ]
     },
     "execution_count": 58,
     "metadata": {},
     "output_type": "execute_result"
    }
   ],
   "source": [
    "cr.name"
   ]
  },
  {
   "cell_type": "code",
   "execution_count": 59,
   "id": "a6adbfb1",
   "metadata": {},
   "outputs": [
    {
     "data": {
      "text/plain": [
       "3"
      ]
     },
     "execution_count": 59,
     "metadata": {},
     "output_type": "execute_result"
    }
   ],
   "source": [
    "cr.size"
   ]
  },
  {
   "cell_type": "markdown",
   "id": "302c3741",
   "metadata": {},
   "source": [
    "### The ControlledGate Class"
   ]
  },
  {
   "cell_type": "markdown",
   "id": "1b6a5cef",
   "metadata": {},
   "source": [
    "#### Using the num_ctrl_qubits attributes"
   ]
  },
  {
   "cell_type": "code",
   "execution_count": 60,
   "id": "1bec6a36",
   "metadata": {},
   "outputs": [
    {
     "name": "stdout",
     "output_type": "stream",
     "text": [
      "2\n"
     ]
    }
   ],
   "source": [
    "from qiskit.circuit.library import CCXGate\n",
    "\n",
    "toffoli = CCXGate()\n",
    "print(toffoli.num_ctrl_qubits)"
   ]
  },
  {
   "cell_type": "markdown",
   "id": "7798171e",
   "metadata": {},
   "source": [
    "#### Using the ctrl_state method"
   ]
  },
  {
   "cell_type": "code",
   "execution_count": 62,
   "id": "e56d32da",
   "metadata": {},
   "outputs": [
    {
     "data": {
      "image/png": "[encoded data removed]",
      "text/plain": [
       "<Figure size 267.197x204.68 with 1 Axes>"
      ]
     },
     "execution_count": 62,
     "metadata": {},
     "output_type": "execute_result"
    }
   ],
   "source": [
    "toffoli = CCXGate()\n",
    "toffoli.ctrl_state = 2\n",
    "\n",
    "toffoli.definition.draw(\"mpl\")"
   ]
  },
  {
   "cell_type": "markdown",
   "id": "e92550f1",
   "metadata": {},
   "source": [
    "#### Defining a custom controlled gate"
   ]
  },
  {
   "cell_type": "code",
   "execution_count": 63,
   "id": "bd3874bf",
   "metadata": {},
   "outputs": [
    {
     "data": {
      "image/png": "[encoded data removed]",
      "text/plain": [
       "<Figure size 133.526x84.28 with 1 Axes>"
      ]
     },
     "execution_count": 63,
     "metadata": {},
     "output_type": "execute_result"
    }
   ],
   "source": [
    "from qiskit import QuantumCircuit\n",
    "import math\n",
    "\n",
    "p16_qc = QuantumCircuit(1)\n",
    "p16_qc.p(math.pi/16, 0)\n",
    "\n",
    "p16_gate = p16_qc.to_gate()\n",
    "\n",
    "p16_gate.definition.draw(\"mpl\")"
   ]
  },
  {
   "cell_type": "code",
   "execution_count": 64,
   "id": "1a90ef34",
   "metadata": {},
   "outputs": [
    {
     "data": {
      "image/png": "[encoded data removed]",
      "text/plain": [
       "<Figure size 266.418x264.88 with 1 Axes>"
      ]
     },
     "execution_count": 64,
     "metadata": {},
     "output_type": "execute_result"
    }
   ],
   "source": [
    "ctrl_p16 = p16_gate.control(3)\n",
    "\n",
    "ctrl_p16.definition.draw(\"mpl\")"
   ]
  },
  {
   "cell_type": "code",
   "execution_count": 65,
   "id": "4344401b",
   "metadata": {},
   "outputs": [
    {
     "data": {
      "image/png": "[encoded data removed]",
      "text/plain": [
       "<Figure size 267.197x264.88 with 1 Axes>"
      ]
     },
     "execution_count": 65,
     "metadata": {},
     "output_type": "execute_result"
    }
   ],
   "source": [
    "qc = QuantumCircuit(4)\n",
    "qc.h([0,1,2,3])\n",
    "qc.append(ctrl_p16,[0,1,2,3])\n",
    "\n",
    "qc.decompose().draw(\"mpl\")"
   ]
  },
  {
   "cell_type": "markdown",
   "id": "112d8f86",
   "metadata": {},
   "source": [
    "### Creating a Parameter Instance"
   ]
  },
  {
   "cell_type": "markdown",
   "id": "612b4da8",
   "metadata": {},
   "source": [
    "#### Using the parameter vector class"
   ]
  },
  {
   "cell_type": "code",
   "execution_count": 68,
   "id": "86492346",
   "metadata": {},
   "outputs": [
    {
     "data": {
      "image/png": "[encoded data removed]",
      "text/plain": [
       "<Figure size 206.997x204.68 with 1 Axes>"
      ]
     },
     "execution_count": 68,
     "metadata": {},
     "output_type": "execute_result"
    }
   ],
   "source": [
    "from qiskit.circuit import QuantumCircuit,\\\n",
    "                           ParameterVector\n",
    "\n",
    "theta = ParameterVector('θ', 3)\n",
    "\n",
    "qc = QuantumCircuit(3)\n",
    "qc.h([0,1,2])\n",
    "qc.p(theta[0],0)\n",
    "qc.p(theta[1],1)\n",
    "qc.p(theta[2],2)\n",
    "\n",
    "qc.draw(\"mpl\")"
   ]
  },
  {
   "cell_type": "code",
   "execution_count": 69,
   "id": "20e49db6",
   "metadata": {},
   "outputs": [
    {
     "data": {
      "image/png": "[encoded data removed]",
      "text/plain": [
       "<Figure size 206.997x204.68 with 1 Axes>"
      ]
     },
     "execution_count": 69,
     "metadata": {},
     "output_type": "execute_result"
    }
   ],
   "source": [
    "b_qc = qc.bind_parameters({theta: [math.pi/8,\n",
    "                                   math.pi/4,\n",
    "                                   math.pi/2]})\n",
    "\n",
    "b_qc.draw(\"mpl\")"
   ]
  },
  {
   "cell_type": "code",
   "execution_count": null,
   "id": "148b7819",
   "metadata": {},
   "outputs": [],
   "source": []
  }
 ],
 "metadata": {
  "kernelspec": {
   "display_name": "Python 3 (ipykernel)",
   "language": "python",
   "name": "python3"
  },
  "language_info": {
   "codemirror_mode": {
    "name": "ipython",
    "version": 3
   },
   "file_extension": ".py",
   "mimetype": "text/x-python",
   "name": "python",
   "nbconvert_exporter": "python",
   "pygments_lexer": "ipython3",
   "version": "3.10.4"
  }
 },
 "nbformat": 4,
 "nbformat_minor": 5
}
