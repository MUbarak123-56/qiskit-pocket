{
 "cells": [
  {
   "cell_type": "markdown",
   "id": "43514150",
   "metadata": {},
   "source": [
    "# Running Quantum Circuits"
   ]
  },
  {
   "cell_type": "code",
   "execution_count": 1,
   "id": "62a6dc10",
   "metadata": {},
   "outputs": [],
   "source": [
    "from qiskit import Aer, BasicAer, execute, IBMQ, QuantumRegister, ClassicalRegister, QuantumCircuit\n",
    "from qiskit.visualization import *\n",
    "from qiskit.tools.jupyter import *"
   ]
  },
  {
   "cell_type": "markdown",
   "id": "edba6c2e",
   "metadata": {},
   "source": [
    "### Using the BasicAer simulators"
   ]
  },
  {
   "cell_type": "code",
   "execution_count": 2,
   "id": "bbdfac55",
   "metadata": {},
   "outputs": [
    {
     "name": "stdout",
     "output_type": "stream",
     "text": [
      "[<QasmSimulatorPy('qasm_simulator')>, <StatevectorSimulatorPy('statevector_simulator')>, <UnitarySimulatorPy('unitary_simulator')>]\n"
     ]
    }
   ],
   "source": [
    "print(BasicAer.backends())"
   ]
  },
  {
   "cell_type": "markdown",
   "id": "1e934b66",
   "metadata": {},
   "source": [
    "#### Using the BasicAer qasm_simulator backend"
   ]
  },
  {
   "cell_type": "code",
   "execution_count": 3,
   "id": "4c9f7b27",
   "metadata": {},
   "outputs": [
    {
     "name": "stdout",
     "output_type": "stream",
     "text": [
      "{'00': 505, '11': 495}\n"
     ]
    }
   ],
   "source": [
    "from qiskit import QuantumCircuit, BasicAer, transpile\n",
    "\n",
    "qc = QuantumCircuit(2)\n",
    "qc.h(0)\n",
    "qc.cx(0,1)\n",
    "qc.measure_all()\n",
    "\n",
    "backend = BasicAer.get_backend(\"qasm_simulator\")\n",
    "tqc = transpile(qc, backend)\n",
    "job = backend.run(tqc, shots = 1000)\n",
    "result = job.result()\n",
    "counts = result.get_counts()\n",
    "print(counts)"
   ]
  },
  {
   "cell_type": "markdown",
   "id": "a8ba9e2c",
   "metadata": {},
   "source": [
    "#### Using the BasicAer statevector_simulator backend"
   ]
  },
  {
   "cell_type": "code",
   "execution_count": 4,
   "id": "9fc26fed",
   "metadata": {},
   "outputs": [
    {
     "name": "stdout",
     "output_type": "stream",
     "text": [
      "[0.70710678+0.j 0.        +0.j 0.        +0.j 0.70710678+0.j]\n"
     ]
    }
   ],
   "source": [
    "from qiskit import QuantumCircuit, BasicAer, transpile\n",
    "\n",
    "qc = QuantumCircuit(2)\n",
    "qc.h(0)\n",
    "qc.cx(0,1)\n",
    "#qc.measure_all()\n",
    "\n",
    "backend = BasicAer.get_backend(\"statevector_simulator\")\n",
    "tqc = transpile(qc, backend)\n",
    "job = backend.run(tqc, shots = 1000)\n",
    "result = job.result()\n",
    "sv = result.get_statevector()\n",
    "print(sv)"
   ]
  },
  {
   "cell_type": "markdown",
   "id": "6b886167",
   "metadata": {},
   "source": [
    "#### Using the BasicAer statevector_simulator backend"
   ]
  },
  {
   "cell_type": "code",
   "execution_count": 5,
   "id": "90544ece",
   "metadata": {},
   "outputs": [
    {
     "name": "stdout",
     "output_type": "stream",
     "text": [
      "[[ 0.70710678+0.00000000e+00j  0.70710678-8.65956056e-17j\n",
      "   0.        +0.00000000e+00j  0.        +0.00000000e+00j]\n",
      " [ 0.        +0.00000000e+00j  0.        +0.00000000e+00j\n",
      "   0.70710678+0.00000000e+00j -0.70710678+8.65956056e-17j]\n",
      " [ 0.        +0.00000000e+00j  0.        +0.00000000e+00j\n",
      "   0.70710678+0.00000000e+00j  0.70710678-8.65956056e-17j]\n",
      " [ 0.70710678+0.00000000e+00j -0.70710678+8.65956056e-17j\n",
      "   0.        +0.00000000e+00j  0.        +0.00000000e+00j]]\n"
     ]
    }
   ],
   "source": [
    "from qiskit import QuantumCircuit, BasicAer, transpile\n",
    "\n",
    "qc = QuantumCircuit(2)\n",
    "qc.h(0)\n",
    "qc.cx(0,1)\n",
    "#qc.measure_all()\n",
    "\n",
    "backend = BasicAer.get_backend(\"unitary_simulator\")\n",
    "tqc = transpile(qc, backend)\n",
    "job = backend.run(tqc, shots = 1000)\n",
    "result = job.result()\n",
    "unitary = result.get_unitary()\n",
    "print(unitary)"
   ]
  },
  {
   "cell_type": "markdown",
   "id": "f7edade9",
   "metadata": {},
   "source": [
    "### Using the Aer Simulator"
   ]
  },
  {
   "cell_type": "code",
   "execution_count": 6,
   "id": "be868000",
   "metadata": {},
   "outputs": [
    {
     "data": {
      "text/plain": [
       "[AerSimulator('aer_simulator'),\n",
       " AerSimulator('aer_simulator_statevector'),\n",
       " AerSimulator('aer_simulator_density_matrix'),\n",
       " AerSimulator('aer_simulator_stabilizer'),\n",
       " AerSimulator('aer_simulator_matrix_product_state'),\n",
       " AerSimulator('aer_simulator_extended_stabilizer'),\n",
       " AerSimulator('aer_simulator_unitary'),\n",
       " AerSimulator('aer_simulator_superop'),\n",
       " QasmSimulator('qasm_simulator'),\n",
       " StatevectorSimulator('statevector_simulator'),\n",
       " UnitarySimulator('unitary_simulator'),\n",
       " PulseSimulator('pulse_simulator')]"
      ]
     },
     "execution_count": 6,
     "metadata": {},
     "output_type": "execute_result"
    }
   ],
   "source": [
    "Aer.backends()"
   ]
  },
  {
   "cell_type": "markdown",
   "id": "54b2759e",
   "metadata": {},
   "source": [
    "#### Using the Aer simulator backend"
   ]
  },
  {
   "cell_type": "markdown",
   "id": "ecf4124a",
   "metadata": {},
   "source": [
    "#### Using the Aer simulator to hold measurement results"
   ]
  },
  {
   "cell_type": "code",
   "execution_count": 7,
   "id": "9ce35fd7",
   "metadata": {},
   "outputs": [
    {
     "name": "stdout",
     "output_type": "stream",
     "text": [
      "{'11': 501, '00': 499}\n"
     ]
    }
   ],
   "source": [
    "from qiskit import QuantumCircuit,Aer,transpile\n",
    "\n",
    "qc = QuantumCircuit(2)\n",
    "qc.h(0)\n",
    "qc.cx(0, 1)\n",
    "qc.measure_all()\n",
    "\n",
    "backend = Aer.get_backend(\"aer_simulator\") \n",
    "tqc = transpile(qc, backend) \n",
    "job = backend.run(tqc, shots=1000) \n",
    "result = job.result() \n",
    "counts = result.get_counts() \n",
    "print(counts)"
   ]
  },
  {
   "cell_type": "markdown",
   "id": "ccaf63c0",
   "metadata": {},
   "source": [
    "#### Using the Aer simulator to calculate and hold a statevector"
   ]
  },
  {
   "cell_type": "code",
   "execution_count": 8,
   "id": "3350b299",
   "metadata": {},
   "outputs": [
    {
     "name": "stdout",
     "output_type": "stream",
     "text": [
      "Statevector([0.70710678+0.j, 0.        +0.j, 0.        +0.j,\n",
      "             0.70710678+0.j],\n",
      "            dims=(2, 2))\n"
     ]
    }
   ],
   "source": [
    "from qiskit import QuantumCircuit,Aer,transpile\n",
    "\n",
    "qc = QuantumCircuit(2)\n",
    "qc.h(0)\n",
    "qc.cx(0, 1)\n",
    "qc.save_statevector()\n",
    "\n",
    "backend = Aer.get_backend(\"aer_simulator\") \n",
    "tqc = transpile(qc, backend) \n",
    "job = backend.run(tqc) \n",
    "result = job.result() \n",
    "sv = result.get_statevector() \n",
    "print(sv)"
   ]
  },
  {
   "cell_type": "markdown",
   "id": "8b7c15d4",
   "metadata": {},
   "source": [
    "#### Using the Aer simulator to calculate and hold a statevector"
   ]
  },
  {
   "cell_type": "code",
   "execution_count": 9,
   "id": "330132c2",
   "metadata": {},
   "outputs": [
    {
     "name": "stdout",
     "output_type": "stream",
     "text": [
      "Operator([[ 0.70710678+0.00000000e+00j,  0.70710678-8.65956056e-17j,\n",
      "            0.        +0.00000000e+00j,  0.        +0.00000000e+00j],\n",
      "          [ 0.        +0.00000000e+00j,  0.        +0.00000000e+00j,\n",
      "            0.70710678+0.00000000e+00j, -0.70710678+8.65956056e-17j],\n",
      "          [ 0.        +0.00000000e+00j,  0.        +0.00000000e+00j,\n",
      "            0.70710678+0.00000000e+00j,  0.70710678-8.65956056e-17j],\n",
      "          [ 0.70710678+0.00000000e+00j, -0.70710678+8.65956056e-17j,\n",
      "            0.        +0.00000000e+00j,  0.        +0.00000000e+00j]],\n",
      "         input_dims=(2, 2), output_dims=(2, 2))\n"
     ]
    }
   ],
   "source": [
    "from qiskit import QuantumCircuit,Aer,transpile\n",
    "\n",
    "qc = QuantumCircuit(2)\n",
    "qc.h(0)\n",
    "qc.cx(0, 1)\n",
    "qc.save_unitary()\n",
    "\n",
    "backend = Aer.get_backend(\"aer_simulator\") \n",
    "tqc = transpile(qc, backend) \n",
    "job = backend.run(tqc) \n",
    "result = job.result() \n",
    "unitary = result.get_unitary() \n",
    "print(unitary)"
   ]
  },
  {
   "cell_type": "markdown",
   "id": "7e2a3168",
   "metadata": {},
   "source": [
    "#### Using the Aer simulator for additional simulation methods"
   ]
  },
  {
   "cell_type": "markdown",
   "id": "36d5d914",
   "metadata": {},
   "source": [
    "Using set_options() to update the simulation methods"
   ]
  },
  {
   "cell_type": "code",
   "execution_count": 10,
   "id": "edc80394",
   "metadata": {},
   "outputs": [],
   "source": [
    "backend = Aer.get_backend(\"aer_simulator\")\n",
    "backend.set_options(method=\"density_matrix\")"
   ]
  },
  {
   "cell_type": "code",
   "execution_count": 11,
   "id": "66e8ec04",
   "metadata": {},
   "outputs": [
    {
     "data": {
      "text/plain": [
       "AerSimulator('aer_simulator_density_matrix')"
      ]
     },
     "execution_count": 11,
     "metadata": {},
     "output_type": "execute_result"
    }
   ],
   "source": [
    "#Getting a backend with a preconfigured simulation method\n",
    "Aer.get_backend(\"aer_simulator_density_matrix\")"
   ]
  },
  {
   "cell_type": "code",
   "execution_count": 12,
   "id": "d4658022",
   "metadata": {},
   "outputs": [
    {
     "name": "stderr",
     "output_type": "stream",
     "text": [
      "Simulation failed and returned the following error message:\n",
      "ERROR:  [Experiment 0] Circuit circuit-120 contains invalid instructions {\"instructions\": {save_unitary}} for \"density_matrix\" method.\n"
     ]
    },
    {
     "data": {
      "text/plain": [
       "<qiskit.providers.aer.jobs.aerjob.AerJob at 0x208a27e5630>"
      ]
     },
     "execution_count": 12,
     "metadata": {},
     "output_type": "execute_result"
    }
   ],
   "source": [
    "# Passing a simulation method into run()\n",
    "backend = Aer.get_backend(\"aer_simulator\")\n",
    "backend.run(tqc, method=\"density_matrix\")"
   ]
  },
  {
   "cell_type": "markdown",
   "id": "26a452d8",
   "metadata": {},
   "source": [
    "#### Supplying a noise model to an AerSimulator backend"
   ]
  },
  {
   "cell_type": "code",
   "execution_count": 13,
   "id": "640866bd",
   "metadata": {},
   "outputs": [
    {
     "name": "stdout",
     "output_type": "stream",
     "text": [
      "{'00': 501, '11': 493, '01': 2, '10': 4}\n"
     ]
    }
   ],
   "source": [
    "from qiskit import QuantumCircuit, Aer, transpile\n",
    "from qiskit.providers.aer.noise import \\\n",
    "        NoiseModel, depolarizing_error\n",
    "\n",
    "err_1 = depolarizing_error(0.95, 1) \n",
    "err_2 = depolarizing_error(0.01, 2)\n",
    "noise_model = NoiseModel()\n",
    "noise_model.add_all_qubit_quantum_error(err_1,\n",
    "                           ['u1', 'u2', 'u3'])\n",
    "noise_model.add_all_qubit_quantum_error(err_2,\n",
    "                                       ['cx'])\n",
    "\n",
    "qc = QuantumCircuit(2)\n",
    "qc.h(0)\n",
    "qc.cx(0, 1)\n",
    "qc.measure_all()\n",
    "\n",
    "backend = Aer.get_backend(\"aer_simulator\")\n",
    "backend.set_options(noise_model=noise_model) \n",
    "tqc = transpile(qc, backend)\n",
    "job = backend.run(tqc, shots=1000)\n",
    "result = job.result()\n",
    "counts = result.get_counts(tqc)\n",
    "print(counts)"
   ]
  },
  {
   "cell_type": "markdown",
   "id": "60fb6578",
   "metadata": {},
   "source": [
    "#### Creating an AerSimulator backend from a real device"
   ]
  },
  {
   "cell_type": "code",
   "execution_count": 14,
   "id": "da4b60ad",
   "metadata": {},
   "outputs": [
    {
     "name": "stderr",
     "output_type": "stream",
     "text": [
      "C:\\Users\\ganiy\\AppData\\Local\\Temp\\ipykernel_9324\\433583147.py:3: DeprecationWarning: The module 'qiskit.test.mock' is deprecated since Qiskit Terra 0.21.0, and will be removed 3 months or more later. Instead, you should import the desired object directly 'qiskit.providers.fake_provider'.\n",
      "  from qiskit.test.mock import FakeVigo\n"
     ]
    },
    {
     "name": "stdout",
     "output_type": "stream",
     "text": [
      "{'01': 69, '00': 445, '11': 454, '10': 32}\n"
     ]
    }
   ],
   "source": [
    "from qiskit import QuantumCircuit, transpile\n",
    "from qiskit.providers.aer import AerSimulator\n",
    "from qiskit.test.mock import FakeVigo\n",
    "\n",
    "qc = QuantumCircuit(2)\n",
    "qc.h(0)\n",
    "qc.cx(0, 1)\n",
    "qc.measure_all()\n",
    "\n",
    "device_backend = FakeVigo() \n",
    "backend = \\\n",
    "    AerSimulator.from_backend(device_backend) \n",
    "tqc = transpile(qc, backend)\n",
    "job = backend.run(tqc, shots=1000)\n",
    "result = job.result()\n",
    "counts = result.get_counts(tqc)\n",
    "print(counts)"
   ]
  },
  {
   "cell_type": "code",
   "execution_count": null,
   "id": "62392a57",
   "metadata": {},
   "outputs": [],
   "source": []
  }
 ],
 "metadata": {
  "kernelspec": {
   "display_name": "Python 3 (ipykernel)",
   "language": "python",
   "name": "python3"
  },
  "language_info": {
   "codemirror_mode": {
    "name": "ipython",
    "version": 3
   },
   "file_extension": ".py",
   "mimetype": "text/x-python",
   "name": "python",
   "nbconvert_exporter": "python",
   "pygments_lexer": "ipython3",
   "version": "3.10.4"
  }
 },
 "nbformat": 4,
 "nbformat_minor": 5
}
