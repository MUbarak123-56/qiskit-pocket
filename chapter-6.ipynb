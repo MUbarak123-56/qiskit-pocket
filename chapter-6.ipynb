{
 "cells": [
  {
   "cell_type": "markdown",
   "id": "02359979",
   "metadata": {},
   "source": [
    "# Operator Flow"
   ]
  },
  {
   "cell_type": "code",
   "execution_count": 1,
   "id": "c9dfa923",
   "metadata": {},
   "outputs": [],
   "source": [
    "from qiskit import Aer, BasicAer, execute, IBMQ, QuantumRegister, ClassicalRegister, QuantumCircuit\n",
    "from qiskit.visualization import *\n",
    "from qiskit.tools.jupyter import *"
   ]
  },
  {
   "cell_type": "markdown",
   "id": "428d6ec3",
   "metadata": {},
   "source": [
    "## Creating Operator Flow Expressions"
   ]
  },
  {
   "cell_type": "code",
   "execution_count": 2,
   "id": "dadad235",
   "metadata": {},
   "outputs": [
    {
     "name": "stdout",
     "output_type": "stream",
     "text": [
      "DictStateFn({'10100': 1})\n"
     ]
    }
   ],
   "source": [
    "from qiskit.opflow import Zero, One\n",
    "\n",
    "state = One ^ Zero ^ One ^ Zero ^ Zero\n",
    "print(state)"
   ]
  },
  {
   "cell_type": "code",
   "execution_count": 3,
   "id": "18040eb5",
   "metadata": {},
   "outputs": [
    {
     "name": "stdout",
     "output_type": "stream",
     "text": [
      "-1.0 * XZ\n"
     ]
    }
   ],
   "source": [
    "from qiskit.opflow import X, Z\n",
    "\n",
    "pauli_piXZ = -(X ^ Z)\n",
    "print(pauli_piXZ)"
   ]
  },
  {
   "cell_type": "code",
   "execution_count": 4,
   "id": "66fc0605",
   "metadata": {},
   "outputs": [
    {
     "name": "stdout",
     "output_type": "stream",
     "text": [
      "[[-0.+0.j -0.+0.j -1.+0.j -0.+0.j]\n",
      " [-0.+0.j -0.+0.j -0.+0.j  1.-0.j]\n",
      " [-1.+0.j -0.+0.j -0.+0.j -0.+0.j]\n",
      " [-0.+0.j  1.-0.j -0.+0.j -0.+0.j]]\n"
     ]
    }
   ],
   "source": [
    "print(pauli_piXZ.to_matrix())"
   ]
  },
  {
   "cell_type": "code",
   "execution_count": 5,
   "id": "c6b10af0",
   "metadata": {},
   "outputs": [
    {
     "name": "stdout",
     "output_type": "stream",
     "text": [
      "     ┌───┐          \n",
      "q_0: ┤ H ├──■───────\n",
      "     └───┘┌─┴─┐     \n",
      "q_1: ─────┤ X ├──■──\n",
      "          └───┘┌─┴─┐\n",
      "q_2: ──────────┤ X ├\n",
      "               └───┘\n"
     ]
    }
   ],
   "source": [
    "from qiskit.opflow import I, X, H, CX\n",
    "\n",
    "op = (CX ^ I) @ (I ^ CX) @ (I ^ I ^ H)\n",
    "print(op)"
   ]
  },
  {
   "cell_type": "code",
   "execution_count": 6,
   "id": "7eae03fc",
   "metadata": {},
   "outputs": [
    {
     "name": "stdout",
     "output_type": "stream",
     "text": [
      "{'000': 498, '111': 502}\n"
     ]
    }
   ],
   "source": [
    "from qiskit.quantum_info import Statevector\n",
    "\n",
    "qc = op.to_circuit()\n",
    "sv = Statevector(qc)\n",
    "print(sv.sample_counts(1000))"
   ]
  },
  {
   "cell_type": "markdown",
   "id": "4032f23d",
   "metadata": {},
   "source": [
    "### Using the Operator State Function Class"
   ]
  },
  {
   "cell_type": "code",
   "execution_count": 7,
   "id": "f0a0b4e0",
   "metadata": {},
   "outputs": [
    {
     "name": "stdout",
     "output_type": "stream",
     "text": [
      "DictStateFn({'10100': 1})\n"
     ]
    }
   ],
   "source": [
    "from qiskit.opflow.state_fns import StateFn\n",
    "\n",
    "statefn = StateFn('10100')\n",
    "print(statefn)"
   ]
  },
  {
   "cell_type": "code",
   "execution_count": 8,
   "id": "4128c4ac",
   "metadata": {},
   "outputs": [
    {
     "name": "stdout",
     "output_type": "stream",
     "text": [
      "CircuitStateFn(\n",
      "     ┌───┐          \n",
      "q_0: ┤ H ├──■───────\n",
      "     └───┘┌─┴─┐     \n",
      "q_1: ─────┤ X ├──■──\n",
      "          └───┘┌─┴─┐\n",
      "q_2: ──────────┤ X ├\n",
      "               └───┘\n",
      ")\n"
     ]
    }
   ],
   "source": [
    "from qiskit import QuantumCircuit\n",
    "\n",
    "qc = QuantumCircuit(3)\n",
    "qc.h(0)\n",
    "qc.cx(0, 1)\n",
    "qc.cx(1, 2)\n",
    "\n",
    "statefn = StateFn(qc)\n",
    "print(statefn)"
   ]
  },
  {
   "cell_type": "code",
   "execution_count": 9,
   "id": "e8a321b6",
   "metadata": {},
   "outputs": [
    {
     "name": "stdout",
     "output_type": "stream",
     "text": [
      "VectorStateFn(Statevector([0.70710678+0.j, 0.        +0.j, 0.        +0.j,\n",
      "             0.70710678+0.j],\n",
      "            dims=(2, 2)))\n"
     ]
    }
   ],
   "source": [
    "import numpy as np\n",
    "\n",
    "statefn = StateFn([1, 0, 0, 1] / np.sqrt(2))\n",
    "print(statefn)"
   ]
  },
  {
   "cell_type": "code",
   "execution_count": 10,
   "id": "2acfd8f7",
   "metadata": {},
   "outputs": [
    {
     "name": "stdout",
     "output_type": "stream",
     "text": [
      "statefn_a: DictMeasurement({'100': 1}) True\n",
      "statefn_b: DictMeasurement({'100': 1}) True\n"
     ]
    }
   ],
   "source": [
    "from qiskit.opflow.state_fns import StateFn\n",
    "from qiskit.opflow import One, Zero\n",
    "\n",
    "statefn_a = StateFn('100', is_measurement=True)\n",
    "print('statefn_a:', statefn_a,\n",
    "      statefn_a.is_measurement)\n",
    "\n",
    "statefn_b = ~(One ^ Zero ^ Zero)\n",
    "print('statefn_b:', statefn_b,\n",
    "      statefn_b.is_measurement)"
   ]
  },
  {
   "cell_type": "markdown",
   "id": "9123779a",
   "metadata": {},
   "source": [
    "### Using the Operator Flow Primitive Operators Class"
   ]
  },
  {
   "cell_type": "code",
   "execution_count": 11,
   "id": "a1f3664b",
   "metadata": {},
   "outputs": [
    {
     "name": "stdout",
     "output_type": "stream",
     "text": [
      "-XZ\n",
      "<class 'qiskit.opflow.primitive_ops.pauli_op.PauliOp'>\n"
     ]
    }
   ],
   "source": [
    "from qiskit.opflow.primitive_ops \\\n",
    "  import PrimitiveOp\n",
    "from qiskit.quantum_info import Pauli\n",
    "\n",
    "primop_piXZ = PrimitiveOp(Pauli('-XZ'))\n",
    "print(primop_piXZ)\n",
    "print(type(primop_piXZ))\n"
   ]
  },
  {
   "cell_type": "code",
   "execution_count": 12,
   "id": "b88fde8f",
   "metadata": {},
   "outputs": [
    {
     "name": "stdout",
     "output_type": "stream",
     "text": [
      "<class 'qiskit.opflow.primitive_ops.pauli_op.PauliOp'>\n",
      "True\n"
     ]
    }
   ],
   "source": [
    "from qiskit.opflow import X, Z\n",
    "\n",
    "pauli_piXZ = -(X ^ Z)\n",
    "print(type(pauli_piXZ))\n",
    "print(primop_piXZ.primitive\n",
    "      .equiv(pauli_piXZ.primitive))\n"
   ]
  },
  {
   "cell_type": "code",
   "execution_count": 13,
   "id": "4e4f13dd",
   "metadata": {},
   "outputs": [
    {
     "name": "stdout",
     "output_type": "stream",
     "text": [
      "     ┌───┐\n",
      "q_0: ┤ H ├\n",
      "     ├───┤\n",
      "q_1: ┤ H ├\n",
      "     ├───┤\n",
      "q_2: ┤ H ├\n",
      "     └───┘\n",
      "<class 'qiskit.opflow.primitive_ops.circuit_op.CircuitOp'>\n"
     ]
    }
   ],
   "source": [
    "from qiskit import QuantumCircuit\n",
    "\n",
    "qc = QuantumCircuit(3)\n",
    "qc.h([0,1,2])\n",
    "\n",
    "h_primop = PrimitiveOp(qc)\n",
    "print(h_primop)\n",
    "print(type(h_primop))\n"
   ]
  },
  {
   "cell_type": "code",
   "execution_count": 14,
   "id": "4913a426",
   "metadata": {},
   "outputs": [
    {
     "name": "stdout",
     "output_type": "stream",
     "text": [
      "     ┌───┐\n",
      "q_0: ┤ H ├\n",
      "     ├───┤\n",
      "q_1: ┤ H ├\n",
      "     ├───┤\n",
      "q_2: ┤ H ├\n",
      "     └───┘\n",
      "<class 'qiskit.opflow.primitive_ops.circuit_op.CircuitOp'>\n"
     ]
    }
   ],
   "source": [
    "from qiskit.opflow import H\n",
    "\n",
    "hgates = H^3\n",
    "print(hgates)\n",
    "print(type(hgates))"
   ]
  },
  {
   "cell_type": "code",
   "execution_count": null,
   "id": "0680d8da",
   "metadata": {},
   "outputs": [],
   "source": []
  }
 ],
 "metadata": {
  "kernelspec": {
   "display_name": "Python 3 (ipykernel)",
   "language": "python",
   "name": "python3"
  },
  "language_info": {
   "codemirror_mode": {
    "name": "ipython",
    "version": 3
   },
   "file_extension": ".py",
   "mimetype": "text/x-python",
   "name": "python",
   "nbconvert_exporter": "python",
   "pygments_lexer": "ipython3",
   "version": "3.10.4"
  }
 },
 "nbformat": 4,
 "nbformat_minor": 5
}
