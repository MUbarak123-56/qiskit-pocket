{
 "cells": [
  {
   "cell_type": "markdown",
   "id": "dc52c2ff",
   "metadata": {},
   "source": [
    "# Quantum Circuits and Operations"
   ]
  },
  {
   "cell_type": "code",
   "execution_count": 1,
   "id": "2e14f306",
   "metadata": {},
   "outputs": [],
   "source": [
    "from qiskit import Aer, execute, transpile, IBMQ, QuantumRegister, ClassicalRegister, QuantumCircuit\n",
    "from qiskit.visualization import *\n",
    "import numpy as np"
   ]
  },
  {
   "cell_type": "markdown",
   "id": "a332fef6",
   "metadata": {},
   "source": [
    "#### Extracting info from a quantum circuit"
   ]
  },
  {
   "cell_type": "code",
   "execution_count": 2,
   "id": "981fdee0",
   "metadata": {},
   "outputs": [
    {
     "data": {
      "image/png": "[encoded data removed]",
      "text/plain": [
       "<Figure size 387.452x204.68 with 1 Axes>"
      ]
     },
     "execution_count": 2,
     "metadata": {},
     "output_type": "execute_result"
    }
   ],
   "source": [
    "qc = QuantumCircuit(2,2)\n",
    "qc.h(0)\n",
    "qc.z(0)\n",
    "qc.h(0)\n",
    "qc.z(0)\n",
    "new_qc = QuantumCircuit(2,2)\n",
    "new_qc.cx(0,1)\n",
    "total = qc.compose(new_qc)\n",
    "total.draw(\"mpl\")"
   ]
  },
  {
   "cell_type": "code",
   "execution_count": 3,
   "id": "79526ec6",
   "metadata": {},
   "outputs": [
    {
     "data": {
      "text/plain": [
       "5"
      ]
     },
     "execution_count": 3,
     "metadata": {},
     "output_type": "execute_result"
    }
   ],
   "source": [
    "total.depth()"
   ]
  },
  {
   "cell_type": "code",
   "execution_count": 4,
   "id": "d71e8291",
   "metadata": {},
   "outputs": [
    {
     "data": {
      "text/plain": [
       "4"
      ]
     },
     "execution_count": 4,
     "metadata": {},
     "output_type": "execute_result"
    }
   ],
   "source": [
    "total.width()"
   ]
  },
  {
   "cell_type": "code",
   "execution_count": 5,
   "id": "539ff3b3",
   "metadata": {},
   "outputs": [
    {
     "data": {
      "text/plain": [
       "5"
      ]
     },
     "execution_count": 5,
     "metadata": {},
     "output_type": "execute_result"
    }
   ],
   "source": [
    "total.size()"
   ]
  },
  {
   "cell_type": "code",
   "execution_count": 6,
   "id": "04baf9f0",
   "metadata": {},
   "outputs": [
    {
     "data": {
      "text/plain": [
       "OrderedDict([('h', 2), ('z', 2), ('cx', 1)])"
      ]
     },
     "execution_count": 6,
     "metadata": {},
     "output_type": "execute_result"
    }
   ],
   "source": [
    "total.count_ops()"
   ]
  },
  {
   "cell_type": "code",
   "execution_count": 7,
   "id": "abe560a7",
   "metadata": {},
   "outputs": [
    {
     "data": {
      "text/plain": [
       "[Clbit(ClassicalRegister(2, 'c'), 0), Clbit(ClassicalRegister(2, 'c'), 1)]"
      ]
     },
     "execution_count": 7,
     "metadata": {},
     "output_type": "execute_result"
    }
   ],
   "source": [
    "total.clbits"
   ]
  },
  {
   "cell_type": "code",
   "execution_count": 8,
   "id": "8eaf32b4",
   "metadata": {},
   "outputs": [
    {
     "data": {
      "text/plain": [
       "[(Instruction(name='h', num_qubits=1, num_clbits=0, params=[]), [Qubit(QuantumRegister(2, 'q'), 0)], []), (Instruction(name='z', num_qubits=1, num_clbits=0, params=[]), [Qubit(QuantumRegister(2, 'q'), 0)], []), (Instruction(name='h', num_qubits=1, num_clbits=0, params=[]), [Qubit(QuantumRegister(2, 'q'), 0)], []), (Instruction(name='z', num_qubits=1, num_clbits=0, params=[]), [Qubit(QuantumRegister(2, 'q'), 0)], []), (Instruction(name='cx', num_qubits=2, num_clbits=0, params=[]), [Qubit(QuantumRegister(2, 'q'), 0), Qubit(QuantumRegister(2, 'q'), 1)], [])]"
      ]
     },
     "execution_count": 8,
     "metadata": {},
     "output_type": "execute_result"
    }
   ],
   "source": [
    "total.data"
   ]
  },
  {
   "cell_type": "code",
   "execution_count": 9,
   "id": "e18ed990",
   "metadata": {},
   "outputs": [
    {
     "data": {
      "text/plain": [
       "2"
      ]
     },
     "execution_count": 9,
     "metadata": {},
     "output_type": "execute_result"
    }
   ],
   "source": [
    "total.num_qubits"
   ]
  },
  {
   "cell_type": "code",
   "execution_count": 10,
   "id": "d0b28df7",
   "metadata": {},
   "outputs": [
    {
     "data": {
      "text/plain": [
       "2"
      ]
     },
     "execution_count": 10,
     "metadata": {},
     "output_type": "execute_result"
    }
   ],
   "source": [
    "total.num_clbits"
   ]
  },
  {
   "cell_type": "code",
   "execution_count": 11,
   "id": "05509b47",
   "metadata": {},
   "outputs": [
    {
     "data": {
      "text/plain": [
       "0"
      ]
     },
     "execution_count": 11,
     "metadata": {},
     "output_type": "execute_result"
    }
   ],
   "source": [
    "total.global_phase"
   ]
  },
  {
   "cell_type": "markdown",
   "id": "38914e02",
   "metadata": {},
   "source": [
    "#### Using the append() instruction"
   ]
  },
  {
   "cell_type": "code",
   "execution_count": 12,
   "id": "ff8506e9",
   "metadata": {},
   "outputs": [
    {
     "data": {
      "image/png": "[encoded data removed]",
      "text/plain": [
       "<Figure size 206.852x144.48 with 1 Axes>"
      ]
     },
     "execution_count": 12,
     "metadata": {},
     "output_type": "execute_result"
    }
   ],
   "source": [
    "from qiskit.circuit.library import CXGate\n",
    "\n",
    "qc = QuantumCircuit(2)\n",
    "qc.h(1)\n",
    "cx_gate = CXGate()\n",
    "qc.append(cx_gate, [1,0])\n",
    "qc.draw(\"mpl\")"
   ]
  },
  {
   "cell_type": "markdown",
   "id": "bc840022",
   "metadata": {},
   "source": [
    "#### Using the bind parameters method"
   ]
  },
  {
   "cell_type": "code",
   "execution_count": 13,
   "id": "dda78265",
   "metadata": {},
   "outputs": [
    {
     "data": {
      "image/png": "[encoded data removed]",
      "text/plain": [
       "<Figure size 206.997x204.68 with 1 Axes>"
      ]
     },
     "execution_count": 13,
     "metadata": {},
     "output_type": "execute_result"
    }
   ],
   "source": [
    "from qiskit.circuit import QuantumCircuit,\\\n",
    "                           Parameter\n",
    "\n",
    "theta1 = Parameter('θ1')\n",
    "theta2 = Parameter('θ2')\n",
    "theta3 = Parameter('θ3')\n",
    "\n",
    "qc = QuantumCircuit(3)\n",
    "qc.h([0,1,2])\n",
    "qc.p(theta1,0)\n",
    "qc.p(theta2,1)\n",
    "qc.p(theta3,2)\n",
    "\n",
    "qc.draw(\"mpl\")"
   ]
  },
  {
   "cell_type": "code",
   "execution_count": 14,
   "id": "452a40fd",
   "metadata": {},
   "outputs": [
    {
     "data": {
      "image/png": "[encoded data removed]",
      "text/plain": [
       "<Figure size 206.997x204.68 with 1 Axes>"
      ]
     },
     "execution_count": 14,
     "metadata": {},
     "output_type": "execute_result"
    }
   ],
   "source": [
    "import math\n",
    "b_qc = qc.bind_parameters({theta1: math.pi/8,\n",
    "                          theta2: math.pi/4,\n",
    "                          theta3: math.pi/2})\n",
    "\n",
    "b_qc.draw(\"mpl\")"
   ]
  },
  {
   "cell_type": "markdown",
   "id": "6fc77217",
   "metadata": {},
   "source": [
    "#### Using the copy() method"
   ]
  },
  {
   "cell_type": "code",
   "execution_count": 15,
   "id": "996beaaa",
   "metadata": {},
   "outputs": [],
   "source": [
    "qc = QuantumCircuit(3)\n",
    "qc.h([0,1,2])\n",
    "new_qc = qc.copy()"
   ]
  },
  {
   "cell_type": "markdown",
   "id": "978a4404",
   "metadata": {},
   "source": [
    "#### Using the decompose() method"
   ]
  },
  {
   "cell_type": "code",
   "execution_count": 16,
   "id": "14839703",
   "metadata": {},
   "outputs": [
    {
     "data": {
      "image/png": "[encoded data removed]",
      "text/plain": [
       "<Figure size 206.852x144.48 with 1 Axes>"
      ]
     },
     "execution_count": 16,
     "metadata": {},
     "output_type": "execute_result"
    }
   ],
   "source": [
    "qc = QuantumCircuit(2)\n",
    "qc.h(0)\n",
    "qc.s(0)\n",
    "qc.x(1)\n",
    "decomposed_qc = qc.decompose()\n",
    "decomposed_qc.draw(\"mpl\")"
   ]
  },
  {
   "cell_type": "markdown",
   "id": "33b972da",
   "metadata": {},
   "source": [
    "#### Using the from_qasm_file() method"
   ]
  },
  {
   "cell_type": "code",
   "execution_count": 17,
   "id": "708665c9",
   "metadata": {},
   "outputs": [
    {
     "name": "stdout",
     "output_type": "stream",
     "text": [
      "\u001b[92mOPENQASM\u001b[39m \u001b[96m2\u001b[39m.\u001b[96m0\u001b[39m;\n",
      "\u001b[92minclude\u001b[39m\u001b[91m \"qelib1.inc\"\u001b[39m;\n",
      "\u001b[92mqreg\u001b[39m q[\u001b[96m2\u001b[39m];\n",
      "\u001b[95mh\u001b[39m q[\u001b[96m0\u001b[39m];\n",
      "\u001b[95ms\u001b[39m q[\u001b[96m0\u001b[39m];\n",
      "\u001b[95mx\u001b[39m q[\u001b[96m1\u001b[39m];\n",
      "\n"
     ]
    },
    {
     "data": {
      "image/png": "[encoded data removed]",
      "text/plain": [
       "<Figure size 206.852x144.48 with 1 Axes>"
      ]
     },
     "execution_count": 17,
     "metadata": {},
     "output_type": "execute_result"
    }
   ],
   "source": [
    "qc.qasm(formatted = True, filename = \"file.qasm\")\n",
    "read_qc = QuantumCircuit.from_qasm_file(\"file.qasm\")\n",
    "read_qc.draw(\"mpl\")"
   ]
  },
  {
   "cell_type": "markdown",
   "id": "69b4c911",
   "metadata": {},
   "source": [
    "#### Using the from_qasm_str() method"
   ]
  },
  {
   "cell_type": "code",
   "execution_count": 18,
   "id": "4be74477",
   "metadata": {},
   "outputs": [
    {
     "data": {
      "image/png": "[encoded data removed]",
      "text/plain": [
       "<Figure size 327.252x204.68 with 1 Axes>"
      ]
     },
     "execution_count": 18,
     "metadata": {},
     "output_type": "execute_result"
    }
   ],
   "source": [
    "qasm_str = \"\"\"\n",
    "OPENQASM 2.0;\n",
    "include \"qelib1.inc\";\n",
    "qreg q[2];\n",
    "creg c[2];\n",
    "h q[0];\n",
    "cx q[0],q[1];\n",
    "measure q[0] -> c[0];\n",
    "measure q[1] -> c[1];\n",
    "\"\"\"\n",
    "new_qc = QuantumCircuit.from_qasm_str(qasm_str)\n",
    "new_qc.draw(\"mpl\")"
   ]
  },
  {
   "cell_type": "markdown",
   "id": "044d3804",
   "metadata": {},
   "source": [
    "#### Using the initialize() method"
   ]
  },
  {
   "cell_type": "code",
   "execution_count": 19,
   "id": "68717e7a",
   "metadata": {},
   "outputs": [
    {
     "data": {
      "image/png": "[encoded data removed]",
      "text/plain": [
       "<Figure size 206.852x144.48 with 1 Axes>"
      ]
     },
     "execution_count": 19,
     "metadata": {},
     "output_type": "execute_result"
    }
   ],
   "source": [
    "qc = QuantumCircuit(2)\n",
    "qc.initialize([0, 0, 0, 1]) # initializes the statevector of the qubit(s)\n",
    "qc.draw(\"mpl\")"
   ]
  },
  {
   "cell_type": "markdown",
   "id": "af32a122",
   "metadata": {},
   "source": [
    "#### Using the reset() method"
   ]
  },
  {
   "cell_type": "code",
   "execution_count": 20,
   "id": "de04c1c2",
   "metadata": {},
   "outputs": [
    {
     "data": {
      "image/png": "[encoded data removed]",
      "text/plain": [
       "<Figure size 193.726x84.28 with 1 Axes>"
      ]
     },
     "execution_count": 20,
     "metadata": {},
     "output_type": "execute_result"
    }
   ],
   "source": [
    "qc = QuantumCircuit(1)\n",
    "qc.x(0)\n",
    "qc.reset(0) # resets the state of the qubit to |0>\n",
    "qc.draw(\"mpl\")"
   ]
  },
  {
   "cell_type": "markdown",
   "id": "53154654",
   "metadata": {},
   "source": [
    "#### Using the qasm() method"
   ]
  },
  {
   "cell_type": "code",
   "execution_count": 21,
   "id": "9926eadd",
   "metadata": {},
   "outputs": [
    {
     "name": "stdout",
     "output_type": "stream",
     "text": [
      "OPENQASM 2.0;\n",
      "include \"qelib1.inc\";\n",
      "qreg q[2];\n",
      "creg c[2];\n",
      "h q[0];\n",
      "cx q[0],q[1];\n",
      "\n"
     ]
    }
   ],
   "source": [
    "qc = QuantumCircuit(2, 2)\n",
    "qc.h(0)\n",
    "qc.cx(0, 1)\n",
    "qasm_str = qc.qasm()\n",
    "print(qasm_str)"
   ]
  },
  {
   "cell_type": "markdown",
   "id": "d52fb785",
   "metadata": {},
   "source": [
    "#### Using the to_gate() method"
   ]
  },
  {
   "cell_type": "code",
   "execution_count": 22,
   "id": "3963b2cb",
   "metadata": {},
   "outputs": [
    {
     "data": {
      "image/png": "[encoded data removed]",
      "text/plain": [
       "<Figure size 267.052x144.48 with 1 Axes>"
      ]
     },
     "execution_count": 22,
     "metadata": {},
     "output_type": "execute_result"
    }
   ],
   "source": [
    "anti_cnot_qc = QuantumCircuit(2)\n",
    "anti_cnot_qc.x(0)\n",
    "anti_cnot_qc.cx(0,1)\n",
    "anti_cnot_qc.x(0)\n",
    "\n",
    "anti_cnot_qc.draw(\"mpl\")"
   ]
  },
  {
   "cell_type": "code",
   "execution_count": 23,
   "id": "d080a809",
   "metadata": {},
   "outputs": [
    {
     "data": {
      "image/png": "[encoded data removed]",
      "text/plain": [
       "<Figure size 267.052x144.48 with 1 Axes>"
      ]
     },
     "execution_count": 23,
     "metadata": {},
     "output_type": "execute_result"
    }
   ],
   "source": [
    "anti_cnot_gate = anti_cnot_qc.to_gate()\n",
    "qc = QuantumCircuit(2)\n",
    "qc.h(0)\n",
    "qc.append(anti_cnot_gate, [0,1])\n",
    "qc.draw(\"mpl\")"
   ]
  },
  {
   "cell_type": "code",
   "execution_count": 24,
   "id": "e3111a00",
   "metadata": {},
   "outputs": [
    {
     "data": {
      "image/png": "[encoded data removed]",
      "text/plain": [
       "<Figure size 504x360 with 1 Axes>"
      ]
     },
     "execution_count": 24,
     "metadata": {},
     "output_type": "execute_result"
    }
   ],
   "source": [
    "qc.measure_all()\n",
    "result = execute(qc, Aer.get_backend(\"qasm_simulator\"), shots = 1000).result().get_counts()\n",
    "plot_histogram(result)"
   ]
  },
  {
   "cell_type": "code",
   "execution_count": 25,
   "id": "6663e903",
   "metadata": {},
   "outputs": [
    {
     "data": {
      "image/png": "[encoded data removed]",
      "text/plain": [
       "<Figure size 327.397x204.68 with 1 Axes>"
      ]
     },
     "execution_count": 25,
     "metadata": {},
     "output_type": "execute_result"
    }
   ],
   "source": [
    "qc = QuantumCircuit(3)\n",
    "qc.x([0,1,2])\n",
    "qc.append(anti_cnot_gate, [0,2])\n",
    "\n",
    "qc.decompose().draw(\"mpl\")"
   ]
  },
  {
   "cell_type": "markdown",
   "id": "4467ea0f",
   "metadata": {},
   "source": [
    "#### Using the to_instruction() method"
   ]
  },
  {
   "cell_type": "code",
   "execution_count": 26,
   "id": "1efc04ef",
   "metadata": {},
   "outputs": [
    {
     "data": {
      "image/png": "[encoded data removed]",
      "text/plain": [
       "<Figure size 193.726x84.28 with 1 Axes>"
      ]
     },
     "execution_count": 26,
     "metadata": {},
     "output_type": "execute_result"
    }
   ],
   "source": [
    "reset_one_qc = QuantumCircuit(1)\n",
    "reset_one_qc.reset(0)\n",
    "reset_one_qc.x(0)\n",
    "\n",
    "reset_one_qc.draw(\"mpl\")"
   ]
  },
  {
   "cell_type": "code",
   "execution_count": 27,
   "id": "701a589e",
   "metadata": {},
   "outputs": [
    {
     "data": {
      "image/png": "[encoded data removed]",
      "text/plain": [
       "<Figure size 267.052x144.48 with 1 Axes>"
      ]
     },
     "execution_count": 27,
     "metadata": {},
     "output_type": "execute_result"
    }
   ],
   "source": [
    "reset_one_inst = reset_one_qc.to_instruction()\n",
    "\n",
    "qc = QuantumCircuit(2)\n",
    "qc.h([0,1])\n",
    "qc.reset(0)\n",
    "qc.append(reset_one_inst, [1])\n",
    "\n",
    "qc.decompose().draw(\"mpl\")"
   ]
  },
  {
   "cell_type": "markdown",
   "id": "60c6b52d",
   "metadata": {},
   "source": [
    "#### Saving state"
   ]
  },
  {
   "cell_type": "code",
   "execution_count": 28,
   "id": "ff74f922",
   "metadata": {},
   "outputs": [
    {
     "ename": "IndexError",
     "evalue": "too many indices for array: array is 0-dimensional, but 1 were indexed",
     "output_type": "error",
     "traceback": [
      "\u001b[1;31m---------------------------------------------------------------------------\u001b[0m",
      "\u001b[1;31mIndexError\u001b[0m                                Traceback (most recent call last)",
      "Input \u001b[1;32mIn [28]\u001b[0m, in \u001b[0;36m<cell line: 14>\u001b[1;34m()\u001b[0m\n\u001b[0;32m     12\u001b[0m sv \u001b[38;5;241m=\u001b[39m execute(qc, backend)\u001b[38;5;241m.\u001b[39mresult()\u001b[38;5;241m.\u001b[39mget_statevector()\n\u001b[0;32m     13\u001b[0m counts \u001b[38;5;241m=\u001b[39m execute(qc, backend)\u001b[38;5;241m.\u001b[39mresult()\u001b[38;5;241m.\u001b[39mget_counts()\n\u001b[1;32m---> 14\u001b[0m \u001b[43marray_to_latex\u001b[49m\u001b[43m(\u001b[49m\u001b[43mresult\u001b[49m\u001b[43m)\u001b[49m\n",
      "File \u001b[1;32m~\\Anaconda3\\envs\\qiskit_env\\lib\\site-packages\\qiskit\\visualization\\array.py:232\u001b[0m, in \u001b[0;36marray_to_latex\u001b[1;34m(array, precision, prefix, source, max_size)\u001b[0m\n\u001b[0;32m    230\u001b[0m \u001b[38;5;28;01mtry\u001b[39;00m:\n\u001b[0;32m    231\u001b[0m     array \u001b[38;5;241m=\u001b[39m np\u001b[38;5;241m.\u001b[39masarray(array)\n\u001b[1;32m--> 232\u001b[0m     _ \u001b[38;5;241m=\u001b[39m \u001b[43marray\u001b[49m\u001b[43m[\u001b[49m\u001b[38;5;241;43m0\u001b[39;49m\u001b[43m]\u001b[49m \u001b[38;5;241m+\u001b[39m \u001b[38;5;241m1\u001b[39m  \u001b[38;5;66;03m# Test first element contains numerical data\u001b[39;00m\n\u001b[0;32m    233\u001b[0m \u001b[38;5;28;01mexcept\u001b[39;00m \u001b[38;5;167;01mTypeError\u001b[39;00m \u001b[38;5;28;01mas\u001b[39;00m err:\n\u001b[0;32m    234\u001b[0m     \u001b[38;5;28;01mraise\u001b[39;00m \u001b[38;5;167;01mTypeError\u001b[39;00m(\n\u001b[0;32m    235\u001b[0m         \u001b[38;5;124;03m\"\"\"array_to_latex can only convert numpy arrays containing numerical data,\u001b[39;00m\n\u001b[0;32m    236\u001b[0m \u001b[38;5;124;03m    or types that can be converted to such arrays\"\"\"\u001b[39;00m\n\u001b[0;32m    237\u001b[0m     ) \u001b[38;5;28;01mfrom\u001b[39;00m \u001b[38;5;21;01merr\u001b[39;00m\n",
      "\u001b[1;31mIndexError\u001b[0m: too many indices for array: array is 0-dimensional, but 1 were indexed"
     ]
    }
   ],
   "source": [
    "anti_cnot_qc = QuantumCircuit(2)\n",
    "anti_cnot_qc.x(0)\n",
    "anti_cnot_qc.cx(0,1)\n",
    "anti_cnot_qc.x(0)\n",
    "anti_cnot_gate = anti_cnot_qc.to_gate()\n",
    "qc = QuantumCircuit(2)\n",
    "qc.h(0)\n",
    "qc.append(anti_cnot_gate, [0,1])\n",
    "qc.save_state()\n",
    "backend = Aer.get_backend(\"aer_simulator\")\n",
    "qc.measure_all()\n",
    "sv = execute(qc, backend).result().get_statevector()\n",
    "counts = execute(qc, backend).result().get_counts()\n",
    "array_to_latex(result)"
   ]
  },
  {
   "cell_type": "code",
   "execution_count": null,
   "id": "e1265a3c",
   "metadata": {},
   "outputs": [],
   "source": [
    "plot_histogram(counts)"
   ]
  },
  {
   "cell_type": "markdown",
   "id": "edc9136a",
   "metadata": {},
   "source": [
    "#### Using the QuantumRegister Class"
   ]
  },
  {
   "cell_type": "code",
   "execution_count": null,
   "id": "ed2267ca",
   "metadata": {},
   "outputs": [],
   "source": [
    "from qiskit import QuantumRegister, \\\n",
    "                   ClassicalRegister\n",
    "\n",
    "qr = QuantumRegister(3, 'q')\n",
    "scratch = QuantumRegister(1, 'scratch')\n",
    "cr = ClassicalRegister(3, 'c')\n",
    "qc = QuantumCircuit(qr, scratch, cr)\n",
    "\n",
    "qc.h(qr)\n",
    "qc.x(scratch)\n",
    "qc.h(scratch)\n",
    "qc.cx(qr[0], scratch)\n",
    "qc.cx(qr[2], scratch)\n",
    "qc.barrier(qr)\n",
    "qc.h(qr)\n",
    "qc.measure(qr, cr)\n",
    "\n",
    "qc.draw(\"mpl\")"
   ]
  },
  {
   "cell_type": "code",
   "execution_count": null,
   "id": "17ffc572",
   "metadata": {},
   "outputs": [],
   "source": [
    "qr.name"
   ]
  },
  {
   "cell_type": "code",
   "execution_count": null,
   "id": "21cdb77b",
   "metadata": {},
   "outputs": [],
   "source": [
    "qr.size"
   ]
  },
  {
   "cell_type": "code",
   "execution_count": null,
   "id": "9df96816",
   "metadata": {},
   "outputs": [],
   "source": [
    "cr.name"
   ]
  },
  {
   "cell_type": "code",
   "execution_count": null,
   "id": "8ee767cc",
   "metadata": {},
   "outputs": [],
   "source": [
    "cr.size"
   ]
  },
  {
   "cell_type": "markdown",
   "id": "a9515ff5",
   "metadata": {},
   "source": [
    "### The ControlledGate Class"
   ]
  },
  {
   "cell_type": "markdown",
   "id": "2c4624b0",
   "metadata": {},
   "source": [
    "#### Using the num_ctrl_qubits attributes"
   ]
  },
  {
   "cell_type": "code",
   "execution_count": null,
   "id": "929fc2aa",
   "metadata": {},
   "outputs": [],
   "source": [
    "from qiskit.circuit.library import CCXGate\n",
    "\n",
    "toffoli = CCXGate()\n",
    "print(toffoli.num_ctrl_qubits)"
   ]
  },
  {
   "cell_type": "markdown",
   "id": "cfc776dd",
   "metadata": {},
   "source": [
    "#### Using the ctrl_state method"
   ]
  },
  {
   "cell_type": "code",
   "execution_count": null,
   "id": "8f688cad",
   "metadata": {},
   "outputs": [],
   "source": [
    "toffoli = CCXGate()\n",
    "toffoli.ctrl_state = 2\n",
    "\n",
    "toffoli.definition.draw(\"mpl\")"
   ]
  },
  {
   "cell_type": "markdown",
   "id": "0c6b12c5",
   "metadata": {},
   "source": [
    "#### Defining a custom controlled gate"
   ]
  },
  {
   "cell_type": "code",
   "execution_count": null,
   "id": "5dbec5ee",
   "metadata": {},
   "outputs": [],
   "source": [
    "from qiskit import QuantumCircuit\n",
    "import math\n",
    "\n",
    "p16_qc = QuantumCircuit(1)\n",
    "p16_qc.p(math.pi/16, 0)\n",
    "\n",
    "p16_gate = p16_qc.to_gate()\n",
    "\n",
    "p16_gate.definition.draw(\"mpl\")"
   ]
  },
  {
   "cell_type": "code",
   "execution_count": null,
   "id": "777fc246",
   "metadata": {},
   "outputs": [],
   "source": [
    "ctrl_p16 = p16_gate.control(3)\n",
    "\n",
    "ctrl_p16.definition.draw(\"mpl\")"
   ]
  },
  {
   "cell_type": "code",
   "execution_count": null,
   "id": "d05afd29",
   "metadata": {},
   "outputs": [],
   "source": [
    "qc = QuantumCircuit(4)\n",
    "qc.h([0,1,2,3])\n",
    "qc.append(ctrl_p16,[0,1,2,3])\n",
    "\n",
    "qc.decompose().draw(\"mpl\")"
   ]
  },
  {
   "cell_type": "markdown",
   "id": "31512ab9",
   "metadata": {},
   "source": [
    "### Creating a Parameter Instance"
   ]
  },
  {
   "cell_type": "markdown",
   "id": "23ff7f04",
   "metadata": {},
   "source": [
    "#### Using the parameter vector class"
   ]
  },
  {
   "cell_type": "code",
   "execution_count": null,
   "id": "6b3f2f92",
   "metadata": {},
   "outputs": [],
   "source": [
    "from qiskit.circuit import QuantumCircuit,\\\n",
    "                           ParameterVector\n",
    "\n",
    "theta = ParameterVector('θ', 3)\n",
    "\n",
    "qc = QuantumCircuit(3)\n",
    "qc.h([0,1,2])\n",
    "qc.p(theta[0],0)\n",
    "qc.p(theta[1],1)\n",
    "qc.p(theta[2],2)\n",
    "\n",
    "qc.draw(\"mpl\")"
   ]
  },
  {
   "cell_type": "code",
   "execution_count": null,
   "id": "0b75a9f9",
   "metadata": {},
   "outputs": [],
   "source": [
    "b_qc = qc.bind_parameters({theta: [math.pi/8,\n",
    "                                   math.pi/4,\n",
    "                                   math.pi/2]})\n",
    "\n",
    "b_qc.draw(\"mpl\")"
   ]
  },
  {
   "cell_type": "code",
   "execution_count": null,
   "id": "d15eb860",
   "metadata": {},
   "outputs": [],
   "source": []
  }
 ],
 "metadata": {
  "kernelspec": {
   "display_name": "Python 3 (ipykernel)",
   "language": "python",
   "name": "python3"
  },
  "language_info": {
   "codemirror_mode": {
    "name": "ipython",
    "version": 3
   },
   "file_extension": ".py",
   "mimetype": "text/x-python",
   "name": "python",
   "nbconvert_exporter": "python",
   "pygments_lexer": "ipython3",
   "version": "3.9.7"
  }
 },
 "nbformat": 4,
 "nbformat_minor": 5
}
